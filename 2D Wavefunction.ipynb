{
 "cells": [
  {
   "cell_type": "code",
   "execution_count": 1,
   "metadata": {},
   "outputs": [],
   "source": [
    "import numpy as np\n",
    "import matplotlib.pyplot as plt\n",
    "import sympy as sp\n",
    "import math\n",
    "import ipywidgets as widgets"
   ]
  },
  {
   "cell_type": "code",
   "execution_count": 2,
   "metadata": {},
   "outputs": [],
   "source": [
    "x = sp.symbols('x')\n",
    "\n",
    "\n",
    "def associated_legendre_polynomial(p, q, x):\n",
    "    derivative = sp.diff(sp.exp(-x) * x ** (p + q), x, q)\n",
    "    L = x ** -p * sp.exp(x) / math.factorial(q) * derivative\n",
    "    return sp.lambdify(x, L.simplify(), 'numpy')"
   ]
  },
  {
   "cell_type": "code",
   "execution_count": 3,
   "metadata": {},
   "outputs": [],
   "source": [
    "def symbolic_r_function(n, l):\n",
    "    r = sp.symbols('r')\n",
    "    a = 1\n",
    "    p, q = 2 * l + 1, n - l - 1\n",
    "    derivative_r = sp.diff(sp.exp(-x) * x ** (p + q), x, q)\n",
    "    L = x ** -p * sp.exp(x) / math.factorial(q) * derivative_r\n",
    "\n",
    "    R = sp.sqrt((2 / (n * a)) ** 3 * math.factorial(n - l - 1) / (2 * n * math.factorial(n + l))) * sp.exp(\n",
    "        -r / (n * a)) * (2 * r / (n * a)) ** l * L.subs(x, 2 * r / (n * 1))\n",
    "\n",
    "    return sp.lambdify(r, R.simplify(), 'numpy')\n",
    "\n",
    "\n",
    "def symbolic_theta_function(l, m):\n",
    "    x = sp.symbols('x')\n",
    "    theta = sp.symbols('θ')\n",
    "    P = (-1) ** m * (1 - x ** 2) ** (m / 2) * sp.diff(\n",
    "        1 / (2 ** l * math.factorial(l)) * sp.diff((x ** 2 - 1) ** l, x, l), x, m)\n",
    "    return sp.lambdify(theta, P.subs(x, sp.cos(theta)).simplify(), 'numpy')\n",
    "\n",
    "\n",
    "def symbolic_phi_function(l, m):\n",
    "    phi = sp.symbols('φ')\n",
    "    A = ((2 * l + 1) / (4 * sp.pi) * math.factorial(l - m) / math.factorial(l + m)) ** 0.5 * sp.exp(sp.I * m * x)\n",
    "    return sp.lambdify(phi, A.subs(x, phi).simplify(), 'numpy')"
   ]
  },
  {
   "cell_type": "code",
   "execution_count": 4,
   "metadata": {},
   "outputs": [
    {
     "data": {
      "application/vnd.jupyter.widget-view+json": {
       "model_id": "2741d9446b7142aab5abefbde3e22088",
       "version_major": 2,
       "version_minor": 0
      },
      "text/plain": [
       "interactive(children=(IntText(value=3, description='n:'), IntText(value=2, description='l:'), IntText(value=0,…"
      ]
     },
     "metadata": {},
     "output_type": "display_data"
    },
    {
     "data": {
      "text/plain": [
       "<function __main__.hydrogen_2d_slice(n, l, m, slice2d=40, zoom=40, fig_size=10)>"
      ]
     },
     "execution_count": 4,
     "metadata": {},
     "output_type": "execute_result"
    }
   ],
   "source": [
    "def hydrogen_2d_slice(n, l, m, slice2d=40, zoom=40, fig_size=10):\n",
    "    grid_resolution = 100\n",
    "    x = y = z = np.linspace(-zoom, zoom, grid_resolution)\n",
    "    x, y, z = np.meshgrid(x, y, z)\n",
    "\n",
    "    R = abs(symbolic_r_function(n, l)(np.sqrt(x ** 2 + y ** 2 + z ** 2)))\n",
    "    Theta = abs(symbolic_theta_function(l, m)(np.arccos(z / np.sqrt(x ** 2 + y ** 2 + z ** 2)))) * abs(\n",
    "        symbolic_phi_function(l, m)(np.arctan2(y, x)))\n",
    "\n",
    "    wavefunction = R * Theta\n",
    "    wavefunction[wavefunction < 0.0001] = 0\n",
    "    \n",
    "    fig = plt.figure()\n",
    "    fig.set_figwidth(fig_size)\n",
    "    fig.set_figheight(fig_size)\n",
    "    \n",
    "    ax = fig.add_subplot(111)\n",
    "    ax.imshow(wavefunction[:, slice2d, :])\n",
    "    plt.show()\n",
    "\n",
    "\n",
    "\n",
    "n_input = widgets.IntText(value=3, description='n:')\n",
    "l_input = widgets.IntText(value=2, description='l:')\n",
    "m_input = widgets.IntText(value=0, description='m:')\n",
    "zoom_input = widgets.IntText(value=25, description='Zoom:')\n",
    "slice_input = widgets.IntText(value=50, description='3D Slice:')\n",
    "fig_size_input = widgets.IntText(value=10, description='Figure size:')\n",
    "\n",
    "widgets.interact(hydrogen_2d_slice, n=n_input, l=l_input, m=m_input,\n",
    "                 zoom=zoom_input, slice2d=slice_input, fig_size=fig_size_input)"
   ]
  },
  {
   "cell_type": "code",
   "execution_count": null,
   "metadata": {},
   "outputs": [],
   "source": []
  }
 ],
 "metadata": {
  "kernelspec": {
   "display_name": "Python 3",
   "language": "python",
   "name": "python3"
  },
  "language_info": {
   "codemirror_mode": {
    "name": "ipython",
    "version": 3
   },
   "file_extension": ".py",
   "mimetype": "text/x-python",
   "name": "python",
   "nbconvert_exporter": "python",
   "pygments_lexer": "ipython3",
   "version": "3.8.3"
  }
 },
 "nbformat": 4,
 "nbformat_minor": 4
}
